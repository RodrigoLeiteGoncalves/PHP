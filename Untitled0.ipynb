{
  "nbformat": 4,
  "nbformat_minor": 0,
  "metadata": {
    "colab": {
      "name": "Untitled0.ipynb",
      "provenance": [],
      "authorship_tag": "ABX9TyNLIHIg9stM1IWxXihH+OYN",
      "include_colab_link": true
    },
    "kernelspec": {
      "name": "python3",
      "display_name": "Python 3"
    },
    "language_info": {
      "name": "python"
    }
  },
  "cells": [
    {
      "cell_type": "markdown",
      "metadata": {
        "id": "view-in-github",
        "colab_type": "text"
      },
      "source": [
        "<a href=\"https://colab.research.google.com/github/RodrigoLeiteGoncalves/PHP/blob/master/Untitled0.ipynb\" target=\"_parent\"><img src=\"https://colab.research.google.com/assets/colab-badge.svg\" alt=\"Open In Colab\"/></a>"
      ]
    },
    {
      "cell_type": "code",
      "execution_count": 8,
      "metadata": {
        "colab": {
          "base_uri": "https://localhost:8080/"
        },
        "id": "arz-wgWQ4E-P",
        "outputId": "cb91f190-cd43-412f-fa72-cfb0b53ce5ca"
      },
      "outputs": [
        {
          "output_type": "stream",
          "name": "stdout",
          "text": [
            "<class 'int'>\n",
            "<class 'str'>\n",
            "<class 'float'>\n",
            "<class 'bool'>\n",
            "Digite seu nome ?Rodrigo\n",
            "Olá Rodrigo, bem vindo a disciplina de programação. Parabéns pelo seu primeiro hello word!!\n",
            "Olá Rodrigo, bem vindo a disciplina de programação. Parabéns pelo seu primeiro hello word!!\n",
            "Olá Rodrigo, bem vindo a disciplina de programação. Parabéns pelo seu primeiro hello word!!\n"
          ]
        }
      ],
      "source": [
        "x =10\n",
        "nome = 'Aluno'\n",
        "nota = 8.73\n",
        "fez_inscricao = True\n",
        "\n",
        "\n",
        "print(type(x)) # função print serve para descobrir qual o tipo da variável. (string = str, int = Inteiro, float = números fracionados. ex: 10.3, bool = boleano que só tem 2 valores: True/ False)\n",
        "print(type(nome))\n",
        "print(type(nota))\n",
        "print(type(fez_inscricao))\n",
        "\n",
        "\n",
        "nome = input('Digite seu nome ?') # recebendo a variável nome.\n",
        "\n",
        "# Formas de formatção.\n",
        "\n",
        "print(\"Olá %s, bem vindo a disciplina de programação. Parabéns pelo seu primeiro hello word!!\" % (nome))\n",
        "print(\"Olá {}, bem vindo a disciplina de programação. Parabéns pelo seu primeiro hello word!!\". format(nome))\n",
        "print(f\"Olá {nome}, bem vindo a disciplina de programação. Parabéns pelo seu primeiro hello word!!\") # essa é a mais indicada\n",
        "\n",
        "\n",
        "\n"
      ]
    }
  ]
}
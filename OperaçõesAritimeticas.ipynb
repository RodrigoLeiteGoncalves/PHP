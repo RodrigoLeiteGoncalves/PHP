{
  "nbformat": 4,
  "nbformat_minor": 0,
  "metadata": {
    "colab": {
      "name": "Untitled1.ipynb",
      "provenance": [],
      "authorship_tag": "ABX9TyPfh3TEiKqiM8iedQrajqVM",
      "include_colab_link": true
    },
    "kernelspec": {
      "name": "python3",
      "display_name": "Python 3"
    },
    "language_info": {
      "name": "python"
    }
  },
  "cells": [
    {
      "cell_type": "markdown",
      "metadata": {
        "id": "view-in-github",
        "colab_type": "text"
      },
      "source": [
        "<a href=\"https://colab.research.google.com/github/RodrigoLeiteGoncalves/PHP/blob/master/Opera%C3%A7%C3%B5esAritimeticas.ipynb\" target=\"_parent\"><img src=\"https://colab.research.google.com/assets/colab-badge.svg\" alt=\"Open In Colab\"/></a>"
      ]
    },
    {
      "cell_type": "code",
      "execution_count": 2,
      "metadata": {
        "colab": {
          "base_uri": "https://localhost:8080/"
        },
        "id": "GUPYF2AhFXnT",
        "outputId": "23aff1c9-738c-4522-bf90-25e2e9dea844"
      },
      "outputs": [
        {
          "output_type": "stream",
          "name": "stdout",
          "text": [
            "Resultado da operação é:  17\n",
            "Resultado da operação é:  25\n",
            "Resultado da operação é:  1.0\n",
            "Resultado da operação é:  5\n"
          ]
        }
      ],
      "source": [
        "#1. Primeiro resolvem-se os parênteses, do mais interno para o mais externo.\n",
        "#2. Exponenciação.\n",
        "#3. Multiplicação e divisão\n",
        "#4. Soma e subtração.\n",
        "\n",
        "# Qual o resultado armazenado na variável operação_1: 25 ou 17?\n",
        "operacao_1 = 2 + 3 * 5\n",
        "# Qual o resultado armazenado na variável operação_2: 25 ou 17?\n",
        "operacao_2 = (2 + 3) * 5\n",
        "# Qual o resultado armazenado na variável operação_3: 4 ou 1?\n",
        "operacao_3 = 4 / 2 ** 2\n",
        "# Qual o resultado armazenado na variável operação_1: 1 ou 5?\n",
        "operacao_4 = 13 % 3 + 4\n",
        "\n",
        "print (f\"Resultado da operação é:  {operacao_1}\")\n",
        "print (f\"Resultado da operação é:  {operacao_2}\")\n",
        "print (f\"Resultado da operação é:  {operacao_3}\")\n",
        "print (f\"Resultado da operação é:  {operacao_4}\")"
      ]
    }
  ]
}